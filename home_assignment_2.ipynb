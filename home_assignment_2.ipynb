{
 "cells": [
  {
   "cell_type": "markdown",
   "id": "c295abce",
   "metadata": {},
   "source": [
    "Text Analytics I HWS 22/23\n",
    "\n",
    "# Home Assignment 2 (25 pts)\n",
    "\n"
   ]
  },
  {
   "cell_type": "markdown",
   "id": "f6c27e5d",
   "metadata": {},
   "source": [
    "Submit your solution via Ilias until 23.59pm on Tuesday, October 25th. Late submissions are accepted until 10:15am on the following day (start of the exercise), with 1/4 of the total possible points deducted from the score.\n",
    "\n",
    "Submit your solutions in teams of 3-4 students. Unless explicitly agreed otherwise in advance, **submissions from teams with more or less members will NOT be graded**.\n",
    "List all members of the team with their student ID and full name in the cell below, and submit only one notebook per team. Only submit a notebook, do not submit the dataset(s) you used or image files that you have created - these have to be created from your notebook. Also, do NOT compress/zip your submission!\n",
    "\n",
    "You may use the code from the exercises and basic functionalities that are explained in the official documentation of Python packages without citing, __all other sources must be cited__. In case of plagiarism (copying solutions from other teams or from the internet) ALL team members will be expelled from the course without warning."
   ]
  },
  {
   "cell_type": "markdown",
   "id": "56b570d3",
   "metadata": {},
   "source": [
    "#### General guidelines:\n",
    "* Make sure that your code is executable, any task for which the code does not directly run on our machine will be graded with 0 points.\n",
    "* Use only packages that are automatically installed along with Anaconda, plus some additional packages that have been introduced in the context of this class.\n",
    "* Ensure that the notebook does not rely on the current notebook or system state!\n",
    "  * Use `Kernel --> Restart & Run All` to see if you are using any definitions, variables etc. that \n",
    "    are not in scope anymore.\n",
    "  * Do not rename any of the datasets you use, and load it from the same directory that your ipynb-notebook is located in, i.e., your working directory.\n",
    "* Make sure you clean up your code before submission, e.g., properly align your code, and delete every line of code that you do not need anymore, even if you may have experimented with it. Minimize usage of global variables. Do not reuse variable names multiple times!\n",
    "* Ensure your code/notebook terminates in reasonable time.\n",
    "* Feel free to use comments in the code. While we do not require them to get full marks, they may help us in case your code has minor errors.\n",
    "* For questions that require a textual answer, please do not write the answer as a comment in a code cell, but in a Markdown cell below the code. Always remember to provide sufficient justification for all answers.\n",
    "* You may create as many additional cells as you want, just make sure that the solutions to the individual tasks can be found near the corresponding assignment.\n",
    "* If you have any general question regarding the understanding of some task, do not hesitate to post in the student forum in Ilias, so we can clear up such questions for all students in the course."
   ]
  },
  {
   "cell_type": "code",
   "execution_count": 1,
   "id": "29e66e9f",
   "metadata": {},
   "outputs": [],
   "source": [
    "# credentials of all team members\n",
    "team_members = [\n",
    "    {\n",
    "        'first_name': 'Pavani',\n",
    "        'last_name': 'Rajula',\n",
    "        'student_id': 1870208\n",
    "    },\n",
    "    {\n",
    "        'first_name': 'Yves',\n",
    "        'last_name': 'Staudenmaier',\n",
    "        'student_id': 1754294\n",
    "    },\n",
    "    {\n",
    "        'first_name': 'Zeynep',\n",
    "        'last_name': 'Eroglu',\n",
    "        'student_id': 1834472\n",
    "    },\n",
    "    {\n",
    "        'first_name': 'Priyanka',\n",
    "        'last_name': 'Roy',\n",
    "        'student_id': 1933097\n",
    "    }\n",
    "]"
   ]
  },
  {
   "cell_type": "code",
   "execution_count": 2,
   "id": "7c5e2d05",
   "metadata": {},
   "outputs": [],
   "source": [
    "from typing import List, Union, Dict, Set, Tuple, Sequence"
   ]
  },
  {
   "cell_type": "markdown",
   "id": "91edf14c",
   "metadata": {},
   "source": [
    "### Task 1: WordNet word similarity (9 points)\n",
    "\n",
    "In this task, we want to implement the similarity between two words in WordNet (https://www.nltk.org/api/nltk.corpus.reader.wordnet.html) using the NLTK package. The word similarity between two words is given by\n",
    "$$\n",
    "\\frac{1}{1+d}\n",
    "$$\n",
    "where $d$ is the distance of the shortest path in the hypernym/hyponym hierarchy tree in WordNet between any pair of synsets that are associated with the two input words.\n",
    "\n",
    "From NLTK you should __only__ use the `synsets`, `hypernyms` and `instance_hpyernyms` functions.\n",
    "\n",
    "The following subtasks build on each other, i.e. the functions of the preceding subtasks can be used for the current subtask.\n",
    "\n",
    "_Note: the distance of a synset to itself is 0, the distance to a direct hypernym is 1, ..._"
   ]
  },
  {
   "cell_type": "code",
   "execution_count": 3,
   "id": "7f2b0d09",
   "metadata": {},
   "outputs": [
    {
     "name": "stderr",
     "output_type": "stream",
     "text": [
      "[nltk_data] Downloading package wordnet to\n",
      "[nltk_data]     /Users/pavanirajula/nltk_data...\n",
      "[nltk_data]   Package wordnet is already up-to-date!\n",
      "[nltk_data] Downloading package omw-1.4 to\n",
      "[nltk_data]     /Users/pavanirajula/nltk_data...\n",
      "[nltk_data]   Package omw-1.4 is already up-to-date!\n"
     ]
    },
    {
     "data": {
      "text/plain": [
       "True"
      ]
     },
     "execution_count": 3,
     "metadata": {},
     "output_type": "execute_result"
    }
   ],
   "source": [
    "from nltk.corpus import wordnet as wn\n",
    "from nltk.corpus.reader.wordnet import Synset\n",
    "import nltk\n",
    "nltk.download('wordnet')\n",
    "nltk.download('omw-1.4')"
   ]
  },
  {
   "cell_type": "markdown",
   "id": "f3a6c82f",
   "metadata": {},
   "source": [
    "__a)__ Write a function ``shortest_paths_to`` that takes a synset as input and computes the shortest paths to all nodes on the way to the root in the hypernym/hyponym hierarchy tree of WordNet. The function should return a dictionary that matches all visited hypernyms on the way(s) to the root to the distance of the shortest path from the input synset. Consider that a synset might have multiple paths to the root and that some nodes might appear in multiple paths. However, we only want to store the shortest distances. Moreover, keep in mind that the input synset might be an instance. __(3 pts)__\n",
    "\n",
    "Use the signature in the cell below.\n",
    "\n",
    "__Example:__ _Calling_ ``shortest_paths_to(s)`` _on the synset_ ``s = wn.synset('calculator.n.01')`` _should yield the following result:_\n",
    "\n",
    "``\n",
    "{Synset('calculator.n.01'): 0,\n",
    " Synset('expert.n.01'): 1,\n",
    " Synset('person.n.01'): 2,\n",
    " Synset('causal_agent.n.01'): 3,\n",
    " Synset('organism.n.01'): 3,\n",
    " Synset('physical_entity.n.01'): 4,\n",
    " Synset('living_thing.n.01'): 4,\n",
    " Synset('entity.n.01'): 5,\n",
    " Synset('whole.n.02'): 5,\n",
    " Synset('object.n.01'): 6}\n",
    "``"
   ]
  },
  {
   "cell_type": "code",
   "execution_count": 4,
   "id": "c9d66e04",
   "metadata": {},
   "outputs": [],
   "source": [
    "def shortest_paths_to(start_syn: Synset) -> Dict[Synset, int]:\n",
    "    \"\"\"Compute the shortest distance to all nodes on paths to the root.\n",
    "    :param start_syn: synset to which we want to compute the shortest distances\n",
    "    :return: dict that matches all visited hypernyms to their distance to the input synset  \n",
    "    \"\"\" \n",
    "    # your code here\n",
    "    not_visited = [(start_syn, 0)]\n",
    "    path = {}\n",
    "\n",
    "    while not_visited:\n",
    "        syn, depth = not_visited.pop(0)\n",
    "        if syn in path:\n",
    "            continue\n",
    "        path[syn] = depth\n",
    "\n",
    "        depth += 1\n",
    "        not_visited.extend((hyp, depth) for hyp in syn.hypernyms())\n",
    "        not_visited.extend((hyp, depth) for hyp in syn.instance_hypernyms())\n",
    "    return path"
   ]
  },
  {
   "cell_type": "code",
   "execution_count": 5,
   "id": "c3367ec7",
   "metadata": {},
   "outputs": [
    {
     "data": {
      "text/plain": [
       "{Synset('weather.n.01'): 0,\n",
       " Synset('atmospheric_phenomenon.n.01'): 1,\n",
       " Synset('physical_phenomenon.n.01'): 2,\n",
       " Synset('natural_phenomenon.n.01'): 3,\n",
       " Synset('phenomenon.n.01'): 4,\n",
       " Synset('process.n.06'): 5,\n",
       " Synset('physical_entity.n.01'): 6,\n",
       " Synset('entity.n.01'): 7}"
      ]
     },
     "execution_count": 5,
     "metadata": {},
     "output_type": "execute_result"
    }
   ],
   "source": [
    "s = wn.synset('weather.n.01')\n",
    "shortest_paths_to(s)"
   ]
  },
  {
   "cell_type": "markdown",
   "id": "3fda6f14",
   "metadata": {},
   "source": [
    "__b)__ Write a function ``merge_paths`` that gets two dictionaries that map synsets to shortest distances (you can assume they were created by the function from __a)__) and merges them. The function shold return a dictionary that includes all synsets and distances that appear in any of the input dictionaries. If a synset appears in both input dictionaries, we want to keep the shorter distance. Leave the input dictionaries unaltered. __(1.5 pts)__\n",
    "\n",
    "Use the signature in the cell below."
   ]
  },
  {
   "cell_type": "code",
   "execution_count": 6,
   "id": "41ffe524",
   "metadata": {},
   "outputs": [],
   "source": [
    "def merge_paths(p1: Dict[Synset, int], p2: Dict[Synset, int]) -> Dict[Synset, int]:\n",
    "    \"\"\"Merge two paths keeping the shorter distance for synsets that appear more than once.\n",
    "    :param p1: first dict that maps synsets to their shortest distances\n",
    "    :param p2: second dict that maps synsets to their shortest distances\n",
    "    :return: merged dict\n",
    "    \"\"\"\n",
    "    # your code here          \n",
    "    merged_dict = p1           \n",
    "    for synset, d2 in p2.items():\n",
    "        if synset in p1.keys():\n",
    "            merged_dict[synset] = min(p1[synset],d2)\n",
    "        else:\n",
    "            merged_dict[synset] = d2\n",
    "            \n",
    "    return merged_dict\n"
   ]
  },
  {
   "cell_type": "code",
   "execution_count": 7,
   "id": "755a31bc",
   "metadata": {},
   "outputs": [
    {
     "data": {
      "text/plain": [
       "{Synset('calculator.n.01'): 0,\n",
       " Synset('expert.n.01'): 1,\n",
       " Synset('person.n.01'): 0,\n",
       " Synset('causal_agent.n.01'): 1,\n",
       " Synset('organism.n.01'): 1,\n",
       " Synset('physical_entity.n.01'): 2,\n",
       " Synset('living_thing.n.01'): 2,\n",
       " Synset('entity.n.01'): 3,\n",
       " Synset('whole.n.02'): 3,\n",
       " Synset('object.n.01'): 4}"
      ]
     },
     "execution_count": 7,
     "metadata": {},
     "output_type": "execute_result"
    }
   ],
   "source": [
    "s1 = wn.synset('calculator.n.01')\n",
    "s2 = wn.synset('person.n.01')\n",
    "p1 = shortest_paths_to(s1)\n",
    "p2 = shortest_paths_to(s2)\n",
    "merge_paths(p1,p2)"
   ]
  },
  {
   "cell_type": "markdown",
   "id": "ade7ce46",
   "metadata": {},
   "source": [
    "__c)__ Write a function ``all_hypernym_paths`` that gets a word as input and returns a dictionary that maps all hypernyms that are reachable from the set of synsets associated with the word to the shortest distance leading there. __(1.5 pts)__\n",
    "\n",
    "Use the signature in the cell below."
   ]
  },
  {
   "cell_type": "code",
   "execution_count": 8,
   "id": "13112dc7",
   "metadata": {},
   "outputs": [],
   "source": [
    "def all_hypernym_paths(word: str) -> Dict[Synset, int]:\n",
    "    \"\"\"Get all hypernyms of all synsets associated with the input word and compute the shortest distance leading there.\n",
    "    :param word: input word\n",
    "    :return: dict that matches all reachable hypernyms to their shortest distance \n",
    "    \"\"\"\n",
    "    # your code here\n",
    "    synsets = wn.synsets(word)\n",
    "    distances = {}\n",
    "    for syn1 in synsets:\n",
    "        for syn2 in synsets:\n",
    "            dict1 = shortest_paths_to(syn1)\n",
    "            dict2 = shortest_paths_to(syn2)\n",
    "            if len(set(dict1.keys()) - set(dict2.keys())) > 1:\n",
    "                distances = merge_paths(distances, dict1)\n",
    "                distances = merge_paths(distances, dict2)\n",
    "    return distances"
   ]
  },
  {
   "cell_type": "code",
   "execution_count": 9,
   "id": "7c6d73bf",
   "metadata": {},
   "outputs": [
    {
     "data": {
      "text/plain": [
       "{Synset('machine.n.01'): 0,\n",
       " Synset('device.n.01'): 1,\n",
       " Synset('instrumentality.n.03'): 2,\n",
       " Synset('artifact.n.01'): 3,\n",
       " Synset('whole.n.02'): 4,\n",
       " Synset('object.n.01'): 5,\n",
       " Synset('physical_entity.n.01'): 3,\n",
       " Synset('entity.n.01'): 4,\n",
       " Synset('machine.n.02'): 0,\n",
       " Synset('person.n.01'): 1,\n",
       " Synset('causal_agent.n.01'): 2,\n",
       " Synset('organism.n.01'): 2,\n",
       " Synset('living_thing.n.01'): 3,\n",
       " Synset('machine.n.03'): 0,\n",
       " Synset('organization.n.01'): 1,\n",
       " Synset('social_group.n.01'): 2,\n",
       " Synset('group.n.01'): 3,\n",
       " Synset('abstraction.n.06'): 4,\n",
       " Synset('machine.n.05'): 0,\n",
       " Synset('car.n.01'): 0,\n",
       " Synset('motor_vehicle.n.01'): 1,\n",
       " Synset('self-propelled_vehicle.n.01'): 2,\n",
       " Synset('wheeled_vehicle.n.01'): 3,\n",
       " Synset('container.n.01'): 4,\n",
       " Synset('vehicle.n.01'): 4,\n",
       " Synset('conveyance.n.03'): 5,\n",
       " Synset('machine.v.01'): 0,\n",
       " Synset('shape.v.02'): 1,\n",
       " Synset('create_from_raw_material.v.01'): 2,\n",
       " Synset('make.v.03'): 3,\n",
       " Synset('machine.v.02'): 0,\n",
       " Synset('produce.v.02'): 1,\n",
       " Synset('machine.n.04'): 0,\n",
       " Synset('mechanical_device.n.01'): 1,\n",
       " Synset('mechanism.n.05'): 2}"
      ]
     },
     "execution_count": 9,
     "metadata": {},
     "output_type": "execute_result"
    }
   ],
   "source": [
    "all_hypernym_paths('machine')"
   ]
  },
  {
   "cell_type": "markdown",
   "id": "49270f8b",
   "metadata": {},
   "source": [
    "__d)__  Write a function ``get_dist`` that returns the word similarity between two input words, according to the formula given in the task description at the beginning.  __(3 pts)__\n",
    "\n",
    "Use the signature in the cell below."
   ]
  },
  {
   "cell_type": "code",
   "execution_count": 10,
   "id": "b0a4e8dc",
   "metadata": {},
   "outputs": [],
   "source": [
    "def get_dist(w1 : str, w2 : str) -> float:\n",
    "    \"\"\"Compute the similarity between two input words in the WordNet hierarchy tree.\n",
    "    :param w1: first input word\n",
    "    :param w2: second input word\n",
    "    :return: word similarity\n",
    "    \"\"\"\n",
    "    # your code here\n",
    "    p1 = all_hypernym_paths(w1)\n",
    "    p2 = all_hypernym_paths(w2)\n",
    "    distances = merge_paths(p1,p2)\n",
    "    distance = sum([dist for _, dist in distances.items()])\n",
    "    return 1.0 / (distance + 1)"
   ]
  },
  {
   "cell_type": "code",
   "execution_count": 11,
   "id": "0987d384",
   "metadata": {},
   "outputs": [
    {
     "data": {
      "text/plain": [
       "0.02040816326530612"
      ]
     },
     "execution_count": 11,
     "metadata": {},
     "output_type": "execute_result"
    }
   ],
   "source": [
    "get_dist('calculator', 'person')"
   ]
  },
  {
   "cell_type": "markdown",
   "id": "3426121d",
   "metadata": {},
   "source": [
    "### Task 2: Lesk algorithm (4 points)\n",
    "\n",
    "In this task we want to implement a simple version of the Lesk algorithm, a knowledge-based method for word sense disambiguation. Given a target word $w$ and a context, the algorithm finds the word sense that is most fitting in the context. To achieve this, the Lesk algorithm computes the number of overlapping words between the context sentence and the definitions of the WordNet synsets, associated with $w$.\n",
    "\n",
    "Write a function ``lesk`` that takes a word and a context string (e.g. a sentence) and returns the most fitting sense from the synsets associated with the word and the corresponding context overlap. The most fitting sense is the one whose definition shares the most words with the context string. Before matching tokens, make sure to \n",
    "\n",
    "* only include valid tokens (cf. HA 1, task 2a)\n",
    "* remove stopwords\n",
    "* ony match stems of words (e.g. consider the ``PorterStemmer`` from ``nltk``)\n",
    "\n",
    "When computing the context overlap, count each stemmed word only once, even if they occur multiple times. If there is no fitting synset, i.e. the context overlap between the context and the synset definitions is 0, return None instead.\n",
    "\n",
    "Use the signature in the cell below."
   ]
  },
  {
   "cell_type": "code",
   "execution_count": 12,
   "id": "055d9147",
   "metadata": {},
   "outputs": [],
   "source": [
    "# HA 1, task 2a)\n",
    "from nltk.corpus.reader.util import StreamBackedCorpusView \n",
    "from nltk.corpus import stopwords\n",
    "import re\n",
    "import string\n",
    "from itertools import chain\n",
    "from nltk.stem import PorterStemmer\n",
    "  \n",
    "ps = PorterStemmer()\n",
    "\n",
    "def get_valid_tokens(tokens: Union[List[str], StreamBackedCorpusView], remove_stopwords: bool=False) -> List[str]:\n",
    "    \"\"\"\n",
    "    :param tokens: list of tokens that should be cleaned\n",
    "    :param remove_stopwords: bool indicating if stopwords should be removed \n",
    "                             False by default\n",
    "    :return: list of valid tokens\n",
    "    \"\"\"\n",
    "    valid = []\n",
    "    punct = string.punctuation\n",
    "    stop = stopwords.words('english')\n",
    "    digit = re.compile(r\"\\d+\")\n",
    "    \n",
    "    for t in tokens:\n",
    "        if t in punct:\n",
    "            continue\n",
    "        if remove_stopwords and t.lower() in stop:\n",
    "            continue\n",
    "        if re.fullmatch(digit, t):\n",
    "            continue\n",
    "        valid.append(t.lower())\n",
    "    return valid"
   ]
  },
  {
   "cell_type": "code",
   "execution_count": 13,
   "id": "054adffc",
   "metadata": {},
   "outputs": [],
   "source": [
    "def lesk(word: str, context: str) -> (Synset, int):\n",
    "    '''\n",
    "    Compute the most probable sense of a word in the given context.\n",
    "    :param word: ambiguous word\n",
    "    :param context: context in which the word appears\n",
    "    :returns: \n",
    "        - synset with the most likely word sense\n",
    "        - context overlap of synset and context          \n",
    "    '''\n",
    "    # your code here\n",
    "    best_sense = []\n",
    "    max_overlap = -1\n",
    "    context = set([ps.stem(word) for word in get_valid_tokens(context.split(), True)])\n",
    "    for syn in wn.synsets(word):\n",
    "        signature = set([ps.stem(word) for word in get_valid_tokens(syn.definition().split(), True)])\n",
    "        overlap = len(context & signature)\n",
    "        if overlap >= max_overlap:\n",
    "            best_sense = syn\n",
    "            max_overlap = overlap\n",
    "    if max_overlap == 0:\n",
    "        return None\n",
    "    return best_sense, max_overlap"
   ]
  },
  {
   "cell_type": "code",
   "execution_count": 14,
   "id": "ed7a0e03",
   "metadata": {},
   "outputs": [
    {
     "name": "stdout",
     "output_type": "stream",
     "text": [
      "(Synset('deposit.v.02'), 2)\n",
      "(Synset('bank.n.01'), 2)\n"
     ]
    }
   ],
   "source": [
    "print(lesk(\"bank\",\"I went to the bank to withdraw some money from my savings account and went back home\"))\n",
    "print(lesk(\"bank\",\"I sat on the bank of the river and enjoyed the water currents striking the land slope\"))"
   ]
  },
  {
   "cell_type": "markdown",
   "id": "c3cd2570",
   "metadata": {},
   "source": [
    "### Task 3: Markov chains (12 points)\n",
    "\n",
    "In this task we want to create a language model by using the independence assumption af Markov. We therefore assume that the probability of a word is only dependent on a fixed number of preceding words. E.g. by restricting the number of preceding words to $n$ we can approximate the probability of a word $w_{i}$ following a sequence of words $w_1, ..., w_{i-1}$ by:\n",
    "\n",
    "$P(w_{i}|w_1, ..., w_{i-1}) \\approx P(w_{i}|w_{i-n}, ..., w_{i-1})$\n",
    "\n",
    "We will first train our model on a given corpus and then use it to automatically generate text.\n",
    "\n",
    "Throughout this task we will define a single class with different functions. If you're unsure how to access class methods and attributes, take a look at the documentation (https://docs.python.org/3/tutorial/classes.html)."
   ]
  },
  {
   "cell_type": "markdown",
   "id": "f19633b2",
   "metadata": {},
   "source": [
    "__a) Collecting the counts (3 pts)__\n",
    "\n",
    "Write a function `process_corpus` that takes a corpus of text (as a sequence of tokens) as input and counts how often a n-gram of length $n$ (``order=n``) is followed by a certain word (the n-grams should __not__ be padded). The function should return a dictionary that maps every n-gram that is observed in the corpus to an inner dictionary. The inner dictionary maps each word to a number, that indicates how often the word succeeds the n-gram in the given corpus. We will need these counts to compute the conditional probabilities $P(w_{i}|w_{i-n}, ..., w_{i-1})$.\n",
    "Additionally, also return the entire vocabulary $V$ (i.e. the set of all unique tokens that appear in the corpus).\n",
    "\n",
    "Make sure your implementation is efficient by using e.g. ``Counter`` and ``defaultdict`` from the package ``collections``.\n",
    "\n",
    "_Note: In this task, the variable_ ``order`` _does not relate to order of the Markov Model but to the length of the n-gram preceding some word $w_i$. The order of a Markov Model that predicts a word $w_i$ from its $n$ preceding words would be $n+1$._   \n",
    "\n",
    "__b) Conditional probabilities (3 pts)__\n",
    "\n",
    "Write a function `transition_prob` that takes a n-gram $(w_{i-n}, ..., w_{i-1})$ and a word $w_{i}$ of the vocabulary $V$ as input and returns the conditional probability that the given n-gram is followed by the input word $w_{i}$. Recall that this conditional probability can be computed as follows:\n",
    "\n",
    "$P(w_{i}|w_{i-n}, ..., w_{i-1}) = \\frac{\\text{Count}(w_{i-n}, ..., w_{i-1}, w_{i})}{\\sum_{w \\in V}\\text{Count}(w_{i-n}, ..., w_{i-1}, w)}$\n",
    "\n",
    "If the n-gram has never been observed, return $\\frac{1}{|V|}$.\n",
    "\n",
    "__c) Most likely word (3 pts)__\n",
    "\n",
    "Write a function `most_likely_word` that gets a n-gram as input and returns the word that is most likely to succeed the given n-gram. In case there are multiple words that are equally likely to follow the given n-gram, return all of them. \n",
    "Note that you should **not** loop over the **entire** vocabulary to obtain the most likely word.\n",
    "In case the given n-gram has never been observed, return the entire vocabulary.\n",
    "\n",
    "__d) Generating text (2 pts)__\n",
    "\n",
    "Write a function `generate_text` that generates a text sequence of length `k`, given a starting sequence of words (`ngram`). The function should choose the most likely next word in every step; in case there are multiple equally likely words, randomly choose one. You should return a list of ``k`` words, that includes the starting sequence and is the most probable continuation. \n",
    "\n",
    "\n",
    "Please do not implement other functions for the MarkovModel class.\n",
    "\n",
    "Use the function signatures in the cell below."
   ]
  },
  {
   "cell_type": "code",
   "execution_count": 15,
   "id": "304206ec",
   "metadata": {},
   "outputs": [],
   "source": [
    "from collections import defaultdict, Counter\n",
    "from nltk.util import ngrams\n",
    "import random\n",
    "\n",
    "class MarkovModel():\n",
    "    '''Markov model for generating text.'''\n",
    "    \n",
    "    def __init__(self, tokens: Sequence[str], order: int):\n",
    "        '''\n",
    "        :param tokens: text corpus on which the model is trained on as an iterator of tokens\n",
    "        :param order: length of the n-gram \n",
    "        '''\n",
    "        self.order = order \n",
    "        self.counts, self.v = self.process_corpus(tokens)\n",
    "        \n",
    "    def process_corpus(self, tokens: Sequence[str]) -> (Dict[str, Dict[str, int]], Set):\n",
    "        '''Training method of the model, counts the occurences of each word after each observed n-gram.\n",
    "        :param tokens: text corpus on which the model is trained on as an iterator of tokens\n",
    "        :returns: \n",
    "            - nested dict that maps each n-gram to the counts of the words succeeding it\n",
    "            - the whole vocabulary as a set\n",
    "        '''\n",
    "        n = self.order\n",
    "        tokens = list(tokens)\n",
    "        start = tokens[0:n]\n",
    "        tokens.extend(start)\n",
    "        ngrams = defaultdict(lambda: defaultdict(int))\n",
    "        for i in range(0, len(tokens)-n, 1):\n",
    "            key = tuple(tokens[i:i+n])\n",
    "            char = tokens[i+n] \n",
    "            if char not in ngrams[key].keys():\n",
    "                ngrams[key][char] = 1\n",
    "            else:\n",
    "                ngrams[key][char] += 1\n",
    "        return ngrams, set(tokens)\n",
    "        \n",
    "        \n",
    "    def transition_prob(self, ngram: Tuple[str, ...], word: str) -> float:\n",
    "        '''Compute the conditional probability that the input word follows the given n-gram.\n",
    "        :param ngram: string tuple that represents an n-gram\n",
    "        :param word: input word\n",
    "        :return: probability that the n-gram is followed by the input word\n",
    "        '''\n",
    "        # your code here\n",
    "        counts = self.counts\n",
    "        vocab = self.v\n",
    "        denominator = sum([val for key, val in counts[ngram].items()])\n",
    "        numerator = sum([val for key, val in counts[ngram].items() if key == word])\n",
    "        if numerator == 0:\n",
    "            return 1/len(vocab)\n",
    "        return numerator/denominator\n",
    "        \n",
    "    \n",
    "    def most_likely_word(self, ngram) -> Set[str]:\n",
    "        '''Computes which word is most likely to follow a given n-gram.\n",
    "        :param ngram: n-gram we are interested in\n",
    "        return: set of words that are most likely to follow the n-gram\n",
    "        '''\n",
    "        # your code here\n",
    "        counts = self.counts\n",
    "        if ngram not in counts.keys():\n",
    "            return self.v\n",
    "        prob_words = defaultdict(list)\n",
    "        for word, count in counts[ngram].items():\n",
    "            prob_words[self.transition_prob(ngram, word)].append(word)\n",
    "        return set([prob_words[prob] for prob in prob_words.keys() if prob == max(prob_words.keys())][0])\n",
    "    \n",
    "    def generate_text(self, ngram: Tuple[str, ...], k: int) -> List[str]:\n",
    "        '''Generates a text sequence of length k, given a starting sequence.\n",
    "        :param ngram: starting sequence\n",
    "        :param k: total number of words in the generated sequence\n",
    "        :return: sequence of generated words, including the starting sequence\n",
    "        '''\n",
    "        # your code here\n",
    "        text = list(ngram)\n",
    "        most_likely_words = list(self.most_likely_word(ngram))\n",
    "        while k != 0:\n",
    "            text.append(random.choice(most_likely_words))\n",
    "            k -= 1\n",
    "            most_likely_words = list(self.most_likely_word(tuple(text[-len(ngram):])))\n",
    "        return text"
   ]
  },
  {
   "cell_type": "code",
   "execution_count": 23,
   "id": "4ec3cfca",
   "metadata": {},
   "outputs": [
    {
     "name": "stdout",
     "output_type": "stream",
     "text": [
      "defaultdict(<function MarkovModel.process_corpus.<locals>.<lambda> at 0x7f857f12b4c0>, {('good', 'happy'): defaultdict(<class 'int'>, {'sad': 2}), ('happy', 'sad'): defaultdict(<class 'int'>, {'good': 2, 'happy': 1}), ('sad', 'good'): defaultdict(<class 'int'>, {'nice': 1, 'good': 1}), ('good', 'nice'): defaultdict(<class 'int'>, {'fun': 1}), ('nice', 'fun'): defaultdict(<class 'int'>, {'good': 1}), ('fun', 'good'): defaultdict(<class 'int'>, {'happy': 1}), ('sad', 'happy'): defaultdict(<class 'int'>, {'sad': 1}), ('good', 'good'): defaultdict(<class 'int'>, {'happy': 1})})\n",
      "['happy', 'sad', 'good', 'nice', 'fun', 'good', 'happy']\n"
     ]
    }
   ],
   "source": [
    "model = MarkovModel(['good','happy', 'sad', 'good', 'nice', 'fun', 'good','happy','sad', 'happy', 'sad', 'good'],2)\n",
    "print(model.counts)\n",
    "print(model.generate_text(('happy', 'sad'), 5))"
   ]
  },
  {
   "cell_type": "markdown",
   "id": "1f1f8ee0",
   "metadata": {},
   "source": [
    "__e) Apply the model to a corpus (2 pts)__\n",
    "\n",
    "Finally, we want to apply our functions to the King James Bible (`'bible-kjv.txt'`) that is part of the ``gutenberg`` corpus. Use the function from HA 1, task 2a) to obtain a list of valid tokens (do not remove stopwords) from the King Jame Bible.\n",
    "\n",
    "Initialize the MarkovModel with the list of valid tokens and ``order=3`` and answer the following subtasks:\n",
    "\n",
    "i) What is the probability that the word ``babylon`` follows the sequence ``the king of``? \n",
    "\n",
    "ii) What are the most likely words to follow the sequence ``the world is``? \n",
    "\n",
    "iii) Generate a sequence of length 20 that starts with ``mother mary was``.\n"
   ]
  },
  {
   "cell_type": "code",
   "execution_count": 24,
   "id": "199e8f0c",
   "metadata": {},
   "outputs": [
    {
     "name": "stderr",
     "output_type": "stream",
     "text": [
      "[nltk_data] Downloading package gutenberg to\n",
      "[nltk_data]     /Users/pavanirajula/nltk_data...\n",
      "[nltk_data]   Package gutenberg is already up-to-date!\n"
     ]
    }
   ],
   "source": [
    "nltk.download(\"gutenberg\")\n",
    "from nltk.corpus import gutenberg\n",
    "tokens = nltk.corpus.gutenberg.words('bible-kjv.txt')\n",
    "valid_tokens = get_valid_tokens(tokens, False)\n",
    "model = MarkovModel(valid_tokens, 3)"
   ]
  },
  {
   "cell_type": "code",
   "execution_count": 25,
   "id": "a53cd5a2",
   "metadata": {},
   "outputs": [
    {
     "data": {
      "text/plain": [
       "0.1906779661016949"
      ]
     },
     "execution_count": 25,
     "metadata": {},
     "output_type": "execute_result"
    }
   ],
   "source": [
    "model.transition_prob(('the', 'king', 'of'), 'babylon')"
   ]
  },
  {
   "cell_type": "code",
   "execution_count": 26,
   "id": "1a113fc9",
   "metadata": {},
   "outputs": [
    {
     "data": {
      "text/plain": [
       "{'crucified', 'enmity', 'gone', 'mine', 'the'}"
      ]
     },
     "execution_count": 26,
     "metadata": {},
     "output_type": "execute_result"
    }
   ],
   "source": [
    "model.most_likely_word(('the', 'world','is'))"
   ]
  },
  {
   "cell_type": "code",
   "execution_count": 27,
   "id": "fb9c5053",
   "metadata": {},
   "outputs": [
    {
     "data": {
      "text/plain": [
       "['mother',\n",
       " 'mary',\n",
       " 'was',\n",
       " 'espoused',\n",
       " 'to',\n",
       " 'joseph',\n",
       " 'before',\n",
       " 'they',\n",
       " 'came',\n",
       " 'together',\n",
       " 'she',\n",
       " 'was',\n",
       " 'found',\n",
       " 'with',\n",
       " 'child',\n",
       " 'of',\n",
       " 'the',\n",
       " 'devil',\n",
       " 'for',\n",
       " 'the',\n",
       " 'devil',\n",
       " 'sinneth',\n",
       " 'from']"
      ]
     },
     "execution_count": 27,
     "metadata": {},
     "output_type": "execute_result"
    }
   ],
   "source": [
    "model.generate_text(('mother', 'mary', 'was'), 20)"
   ]
  }
 ],
 "metadata": {
  "kernelspec": {
   "display_name": "Python 3 (ipykernel)",
   "language": "python",
   "name": "python3"
  },
  "language_info": {
   "codemirror_mode": {
    "name": "ipython",
    "version": 3
   },
   "file_extension": ".py",
   "mimetype": "text/x-python",
   "name": "python",
   "nbconvert_exporter": "python",
   "pygments_lexer": "ipython3",
   "version": "3.9.13"
  }
 },
 "nbformat": 4,
 "nbformat_minor": 5
}
